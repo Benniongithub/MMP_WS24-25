{
 "cells": [
  {
   "cell_type": "markdown",
   "id": "b88c7cec-c1a4-4069-a35e-b06e0d09d3c4",
   "metadata": {},
   "source": [
    "# Der schwimmende Hund\n",
    "Die Aufgabe des schwimmenden Hundes wurde bereits in Experimentalphysik (Blatt 2, Aufgabe 2.5) gestellt und lautet wie folgt: \n",
    "\n",
    "Ein Hund entdeckt sein Frauchen am anderen Ufer eines Flusses, springt genau\n",
    "gegenüber ins Wasser und schwimmt immer genau in Richtung auf das\n",
    "Frauchen zu, obwohl ihn die Strömung abtreibt.\n",
    "\n",
    "1. Wie lange braucht er um ans andere Ufer zu kommen?\n",
    "2. Welche Kurve beschreibt er dabei?\n",
    "\n",
    "Nehmen Sie an, dass der Fluss eine konstante und überall gleiche\n",
    "Geschwindigkeit hat. Betrachten Sie die Fälle in denen der Hund schneller,\n",
    "gleichschnell und langsamer als die Strömungsgeschwindigkeit des Flusses\n",
    "schwimmt.\n",
    "\n",
    "## Lösung der Aufgabe\n",
    "### Aufstellen der DGL\n",
    "\n",
    "Angenommen der Hund Rantanplan befindet sich zum Zeitpunkt $t=0$ im Punkt $(0,-1)$ und möchte zu seinem Herrchen am Punkt $(0,1)$ auf der anderen Flussseite gelangen, wobei der Fluss die Strömungsgeschwindigkeit $(c,0)$ hat. Die Geschwindigkeit des Hundes $v$ zeigt immer in Richtung des Herrchens, sodass sich der Geschwindigkeitsvektor\n",
    "$$\n",
    "    (\\dot{x}(t),\\dot{y}(t)) = v\\cdot\\frac{(0,1)-(x(t),y(t))}{\\sqrt{x^2(t)+y^2(t)}} + (c,0)\n",
    "$$\n",
    "ergibt.\n",
    "\n",
    "Um eine analytische Lösung dieser gekoppelten Differenzialgleichungen zu berechnen bedarf es einiger Anstrengung. Man kann die Aufgabe auch numerisch am Computer lösen. Das kann auch vor allem dann hilfreich sein, wenn die zu untersuchende DGL keine geschlossene analytische Lösung besitzt. Hierfür kann das folgende Python-Skript verwendet werden.\n",
    "\n",
    "### Implementierung in Python\n",
    "\n",
    "Zum numerischen Lösen kann die Funktion solve_ivp (solve initial-value problem) aus der scipy.integrate-Bibliothek verwendet werden, die hier zusammen mit anderen wichtigen Bibliotheken importiert wird.\n",
    "\n"
   ]
  },
  {
   "cell_type": "code",
   "execution_count": null,
   "id": "86448339-dedb-4b61-8b56-adb318c5e448",
   "metadata": {},
   "outputs": [],
   "source": [
    "import numpy as np\n",
    "import scipy.integrate as integ          #Zum Lösen des Anfangswertproblems\n",
    "from matplotlib import pyplot as plt     #Zum Plotten der Lösung\n",
    "plt.rcParams.update({'font.size': 16})"
   ]
  },
  {
   "cell_type": "markdown",
   "id": "d620573a-6df5-4f4c-8969-d4e973108a63",
   "metadata": {},
   "source": [
    "Als nächstes müssen die DGLs, also $v(t)$, und die Geschwindigkeiten von Hund und Fluss ($vh$ und $vf$), sowie die Anfangspositionen von Hund und Herrchen ($r0$ und $r1$) in den Code implementiert werden:"
   ]
  },
  {
   "cell_type": "code",
   "execution_count": null,
   "id": "f61afa9e-a2f4-4a93-a3fe-598860b43130",
   "metadata": {},
   "outputs": [],
   "source": [
    "vh = 1.0                 #Geschwindigkeit Hund\n",
    "vf = np.array([0.7,0])   #Geschwindigkeitsvector Fluss\n",
    "\n",
    "r0 = np.array([0,-1])    #Anfangsposition Hund\n",
    "r1 = np.array([0,1])     #Position Herrchen\n",
    "\n",
    "\n",
    "def vrantanplan(t,r):    \n",
    "    v = r1-r                                       #Richtung von v\n",
    "    return v/np.sqrt(v[0]**2+v[1]**2)*vh + vf    #v(t)\n",
    "\n",
    "#Hier vlassie einfügen\n",
    "#def vlassie(t,r):\n",
    "#       return "
   ]
  },
  {
   "cell_type": "markdown",
   "id": "50068e33-7528-40e4-93ed-5f0a4237af55",
   "metadata": {},
   "source": [
    "Dieses Anfangswertproblem kann nun numerisch integriert werden."
   ]
  },
  {
   "cell_type": "code",
   "execution_count": null,
   "id": "07b34d7d-1392-44db-9876-5047c4ca3496",
   "metadata": {},
   "outputs": [],
   "source": [
    "tmax = 5.0 #Integrationsbereich\n",
    "rantanplan = integ.solve_ivp(vrantanplan, [0,tmax],r0,dense_output=True)\n",
    "#lassie = integ.solve_ivp(vlassie, [0,tmax],r0,dense_output=True)      #Für Aufgabe # entfernen\n",
    "\n",
    "print(rantanplan.message)\n",
    "#print(lassie.message)                                                 #Für Aufgabe # entfernen"
   ]
  },
  {
   "cell_type": "markdown",
   "id": "18d2f3c3-4674-46ec-bd87-c7e28f2e8fea",
   "metadata": {},
   "source": [
    "Jetzt kann die Lösung geplottet werden. Die dank der Option dense_output=True eine kontinuierliche Lösung berechnet wird, kann diese übere mehrere Punkte interpoliert dargestellt werden."
   ]
  },
  {
   "cell_type": "code",
   "execution_count": null,
   "id": "74589104-5dab-435c-ad50-12d1d4ff6afe",
   "metadata": {},
   "outputs": [],
   "source": [
    "[fig, (ax1,ax2)] = plt.subplots(1, 2)\n",
    "fig.set_size_inches(16, 8)\n",
    "ax1.plot(rantanplan.y[0,:],rantanplan.y[1,:],color='darkred',linewidth=4)\n",
    "#ax1.plot(lassie.y[0,:],lassie.y[1,:],color='darkblue',linewidth=4)        #Für Aufgabe # entfernen\n",
    "\n",
    "#Interpolation für kontinuierlichere Darstellung\n",
    "tinterp = np.linspace(0,tmax,100)\n",
    "rinterp = rantanplan.sol(tinterp)                                          \n",
    "#linterp = lassie.sol(tinterp)                                             #Für Aufgabe # entfernen\n",
    "ax1.plot(rinterp[0,:],rinterp[1,:],color='red',linewidth=2)\n",
    "#ax1.plot(linterp[0,:],linterp[1,:],color='blue',linewidth=2)              #Für Aufgabe # entfernen\n",
    "\n",
    "ax1.set_ylabel('y')\n",
    "ax1.set_xlabel('x')\n",
    "ax1.set_ylim([-1.2, 1.2])\n",
    "ax1.set_xlim([0, 2])\n",
    "\n",
    "ax2.plot(rantanplan.t,rantanplan.y[1,:],color='darkred',linewidth=4)\n",
    "#ax2.plot(lassie.t,lassie.y[1,:],color='darkblue',linewidth=4)            #Für Aufgabe # entfernen\n",
    "ax2.plot(tinterp,rinterp[1,:],color='red',linewidth=2,label='Rantanplan')\n",
    "#ax2.plot(tinterp,linterp[1,:],color='blue',linewidth=2,label='Lassie')   #Für Aufgabe # entfernen\n",
    "ax2.set_ylabel('y')\n",
    "ax2.set_xlabel('t')\n",
    "ax2.set_ylim([-1.2, 1.2])\n",
    "ax2.legend(loc=\"lower right\")\n",
    "\n",
    "#plt.savefig('dgl_hund.png') \n",
    "plt.show()"
   ]
  },
  {
   "cell_type": "markdown",
   "id": "1c7062e9-db52-4a91-9526-755f64355d5a",
   "metadata": {},
   "source": [
    "## Aufgabe\n",
    "Angenommen die Hündin Lassie hat ihr Herrchen auf der anderen Seite des Flusses erblickt und möchte zu ihm. Sie möchte aber nur möglichst kurz im Wasser bleiben und schwimmt deshalb mit der Geschwindigkeit $(0,vh)$ orthogonal zur Fließrichtung bis sie das andere Flussufer erreicht, um dann mit der Geschwindigkeit $-2vf$ zu ihrem Herrchen zu rennden. \n",
    "\n",
    "1. Implementieren Sie den Geschwindigkeitsvektor von Lassie an der gekennzeichneten Stelle im obigen Code. (Die if-funktion könnte hierfür nützlich sein.)\n",
    "2. Plotten Sie die Trajektorien der beiden Hunde (entfernen der # im Plotskript).\n",
    "3.  Welcher Hund ist schneller? Berechnen Sie in der nachfolgenden Zelle den Abstand zwischen Hund und Herrchen $d(t)$  und stellen Sie diesen in einem $d$-$t$-Diagramm für beide Hunde dar.\n",
    "4.  Überlegen Sie sich eine interessante Fragestellung im Zusammenhang mit dieser Aufgabe und implementieren Sie deren Lösung."
   ]
  },
  {
   "cell_type": "code",
   "execution_count": null,
   "id": "3f9eed83-c404-4b00-9fec-da14e1041338",
   "metadata": {},
   "outputs": [],
   "source": [
    "# Aufgabe 3: Abstand zwischen Hund und Herrchen hier\n"
   ]
  }
 ],
 "metadata": {
  "kernelspec": {
   "display_name": "Python 3 (ipykernel)",
   "language": "python",
   "name": "python3"
  },
  "language_info": {
   "codemirror_mode": {
    "name": "ipython",
    "version": 3
   },
   "file_extension": ".py",
   "mimetype": "text/x-python",
   "name": "python",
   "nbconvert_exporter": "python",
   "pygments_lexer": "ipython3",
   "version": "3.10.12"
  }
 },
 "nbformat": 4,
 "nbformat_minor": 5
}
