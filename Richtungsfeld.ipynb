{
 "cells": [
  {
   "cell_type": "markdown",
   "id": "9b4244cd-3d05-489b-8093-134de99ecd4e",
   "metadata": {},
   "source": [
    "# Richtungsfeld\n",
    "Gegeben sei die Differenzialgleichung \n",
    "$$\n",
    "    y'(x) = \\sin(x-y).\n",
    "$$\n",
    "Zusammen mit den Anfangsbedingungen $y(-2)=1.5$ kann man die DGL mit dem scipy.integrate.solve_ivp analog zur Aufgabe mit dem schwimmenden Hund lösen."
   ]
  },
  {
   "cell_type": "code",
   "execution_count": null,
   "id": "d3de1365-88be-4ad6-b404-281e8ba3a459",
   "metadata": {},
   "outputs": [],
   "source": [
    "import numpy as np\n",
    "import scipy.integrate as integ \n",
    "from matplotlib import pyplot as plt\n",
    "plt.rcParams.update({'font.size': 16})\n",
    "\n",
    "# Definition der Funktion ystrich, die die Differentialgleichung beschreibt\n",
    "def ystrich(x,y):\n",
    "   return np.sin(x-y)\n",
    "\n",
    "# Festlegung der Parameter für die numerische Lösung der Differentialgleichung\n",
    "xmax = 2\n",
    "x0 = -2\n",
    "y0 = 1.5\n",
    "\n",
    "# Lösung der Differentialgleichung mit den Anfangsbedingungen\n",
    "dglloesung = integ.solve_ivp(ystrich, [x0, xmax], [y0], dense_output=True)\n",
    "\n",
    "# Ausgabe der Nachricht über den Status der Lösung\n",
    "print(dglloesung.message)\n",
    "\n",
    "#Interpolierte Lösungskurve\n",
    "tinterp = np.linspace(-xmax,xmax,20)\n",
    "dglinterp = dglloesung.sol(tinterp)  \n",
    "\n",
    "# Erstellen eines Plots für die Lösung der Differentialgleichung\n",
    "[fig, (ax1)] = plt.subplots(1, 1)\n",
    "fig.set_size_inches(16, 8)\n",
    "ax1.plot(dglloesung.t, dglloesung.y[0, :], color='darkgreen', linewidth=2, label='Lösung')\n",
    "ax1.plot(tinterp, dglinterp[0, :], color='darkred', linewidth=4, label='Interpolierte Lösung')\n",
    "ax1.legend(loc=\"lower left\")\n",
    "plt.show()\n"
   ]
  },
  {
   "cell_type": "markdown",
   "id": "a45e6ff4-d4eb-4437-abcb-abcb768e98d5",
   "metadata": {},
   "source": [
    "Ein nützliches Werkzeug zur Analyse von DGLs ist das sogenannte Richtungsfeld. Dieses kann erzeugt werden, indem die Tangente der DGL an jedem Punkt eines $x$-$y$-Gitters ausgewertet und durch einen Pfeil dargestellt wird."
   ]
  },
  {
   "cell_type": "code",
   "execution_count": null,
   "id": "31351cc4-08f5-4bde-9a8c-2902e8ce1e91",
   "metadata": {},
   "outputs": [],
   "source": [
    "# Definition der Funktion tangente, die die Tangenten an die Lösungskurve berechnet\n",
    "def tangente(x, y):\n",
    "   yp = ystrich(x, y)\n",
    "   return yp / np.sqrt(1.0 + yp**2)\n",
    "\n",
    "# Vektorisierung der Tangentenfunktion\n",
    "tfunc = np.vectorize(tangente)\n",
    "\n",
    "# Erstellen eines Gitters für das Richtungsfeld\n",
    "xyplot = np.linspace(-xmax, xmax, 20)\n",
    "ixe, ypse = np.meshgrid(xyplot, xyplot)\n",
    "\n",
    "# Erstellen eines weiteren Plots für das Richtungsfeld und die interpolierten Lösungskurven\n",
    "[fig, (ax1)] = plt.subplots(1, 1)\n",
    "fig.set_size_inches(8, 8)\n",
    "us = (ixe * 0 + 0.1)\n",
    "vaus = tfunc(ixe, ypse) * 0.1\n",
    "ax1.quiver(ixe - us / 2, ypse - vaus / 2, us, vaus)\n",
    "\n",
    "# Interpolierte Lösungskurven für verschiedene Anfangsbedingungen\n",
    "x0 = -2\n",
    "y0 = 1.5\n",
    "dglloesung = integ.solve_ivp(ystrich, [x0, xmax], [y0], dense_output=True)\n",
    "llabel = 'y(' + str(x0) + ') = ' + str(y0)\n",
    "yinterp = dglloesung.sol(xyplot)\n",
    "ax1.plot(xyplot, yinterp[0, :], color='darkred', linewidth=4, label=llabel)\n",
    "\n",
    "# Beschriftung der Achsen, Festlegung der Achsenverhältnisse und Hinzufügen einer Legende\n",
    "ax1.set_ylabel('y')\n",
    "ax1.set_xlabel('x')\n",
    "ax1.axis('equal')\n",
    "ax1.set_ylim([-2, 2])\n",
    "ax1.legend(loc=\"lower left\")\n",
    "\n",
    "# Anzeigen des Plots\n",
    "plt.show()\n"
   ]
  },
  {
   "cell_type": "markdown",
   "id": "25d5a0c3-ea57-4ce1-aeaf-16497a34913e",
   "metadata": {},
   "source": [
    "## Aufgabe\n",
    "\n",
    "Plotten Sie Lösungskurven für verschiedene Anfangsbedingungen. Beschreiben Sie den Zusammenhang zwischen Richtungsfeld und Lösungskurve."
   ]
  }
 ],
 "metadata": {
  "kernelspec": {
   "display_name": "Python 3 (ipykernel)",
   "language": "python",
   "name": "python3"
  },
  "language_info": {
   "codemirror_mode": {
    "name": "ipython",
    "version": 3
   },
   "file_extension": ".py",
   "mimetype": "text/x-python",
   "name": "python",
   "nbconvert_exporter": "python",
   "pygments_lexer": "ipython3",
   "version": "3.10.12"
  }
 },
 "nbformat": 4,
 "nbformat_minor": 5
}
